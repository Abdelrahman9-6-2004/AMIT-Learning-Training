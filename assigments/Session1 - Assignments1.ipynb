{
 "cells": [
  {
   "cell_type": "markdown",
   "id": "c067dcd9",
   "metadata": {},
   "source": [
    "### Q1. Create a list of five integers and print it."
   ]
  },
  {
   "cell_type": "code",
   "execution_count": 1,
   "id": "19a0e252",
   "metadata": {},
   "outputs": [
    {
     "name": "stdout",
     "output_type": "stream",
     "text": [
      "[2, 4, 6, 8, 10]\n"
     ]
    }
   ],
   "source": [
    "numbers = [2,4,6,8,10]\n",
    "print(numbers)"
   ]
  },
  {
   "cell_type": "markdown",
   "id": "a2d05fd3",
   "metadata": {},
   "source": [
    "### Q2. Write a program to find the length of a list."
   ]
  },
  {
   "cell_type": "code",
   "execution_count": 2,
   "id": "6b75c5d1",
   "metadata": {},
   "outputs": [
    {
     "name": "stdout",
     "output_type": "stream",
     "text": [
      "5\n"
     ]
    }
   ],
   "source": [
    "length = len(numbers)\n",
    "print(length)"
   ]
  },
  {
   "cell_type": "markdown",
   "id": "c705d6ac",
   "metadata": {},
   "source": [
    "### Q3. Create a tuple with three elements and print the second item."
   ]
  },
  {
   "cell_type": "code",
   "execution_count": 3,
   "id": "61c1e11e",
   "metadata": {},
   "outputs": [
    {
     "name": "stdout",
     "output_type": "stream",
     "text": [
      "72\n"
     ]
    }
   ],
   "source": [
    "elements = ('abdo',72,'AI')\n",
    "print(elements[1])"
   ]
  },
  {
   "cell_type": "markdown",
   "id": "a3fb1843",
   "metadata": {},
   "source": [
    "### Q4. Create a dictionary with 3 key-value pairs and print all keys."
   ]
  },
  {
   "cell_type": "code",
   "execution_count": 5,
   "id": "c588c043",
   "metadata": {},
   "outputs": [
    {
     "name": "stdout",
     "output_type": "stream",
     "text": [
      "dict_keys(['name', 'age', 'job'])\n"
     ]
    }
   ],
   "source": [
    "new_dictionary = {'name':'abdo','age':21,'job':'engineer'}\n",
    "print(new_dictionary.keys())"
   ]
  },
  {
   "cell_type": "markdown",
   "id": "499c5644",
   "metadata": {},
   "source": [
    "### Q5. Write a program to convert a list into a set."
   ]
  },
  {
   "cell_type": "code",
   "execution_count": 6,
   "id": "5b3e7b61",
   "metadata": {},
   "outputs": [
    {
     "name": "stdout",
     "output_type": "stream",
     "text": [
      "{2, 4, 6, 8, 10}\n"
     ]
    }
   ],
   "source": [
    "new_set =set(numbers)\n",
    "print(new_set)"
   ]
  },
  {
   "cell_type": "markdown",
   "id": "a0e55b4f",
   "metadata": {},
   "source": [
    "### Q6. Create a string and print its first and last characters."
   ]
  },
  {
   "cell_type": "code",
   "execution_count": 17,
   "id": "b5cc0d08",
   "metadata": {},
   "outputs": [
    {
     "name": "stdout",
     "output_type": "stream",
     "text": [
      "A||T\n"
     ]
    }
   ],
   "source": [
    "new_string = 'AMIT'\n",
    "print(new_string[0], new_string[-1], sep='||')"
   ]
  },
  {
   "cell_type": "markdown",
   "id": "f4adb032",
   "metadata": {},
   "source": [
    "### Q7. Take input from the user and print it."
   ]
  },
  {
   "cell_type": "code",
   "execution_count": 1,
   "id": "cc325325",
   "metadata": {},
   "outputs": [
    {
     "name": "stdout",
     "output_type": "stream",
     "text": [
      "9\n"
     ]
    }
   ],
   "source": [
    "y = input(\"y = \")\n",
    "print(y)"
   ]
  },
  {
   "cell_type": "markdown",
   "id": "32003cd3",
   "metadata": {},
   "source": [
    "### Q8. Write a program to add two numbers entered by the user."
   ]
  },
  {
   "cell_type": "code",
   "execution_count": 3,
   "id": "1cce015b",
   "metadata": {},
   "outputs": [
    {
     "name": "stdout",
     "output_type": "stream",
     "text": [
      "23\n"
     ]
    }
   ],
   "source": [
    "x = input(\"first no. is \")\n",
    "y = input(\"second no. is \")\n",
    "add = x + y\n",
    "print(add)"
   ]
  },
  {
   "cell_type": "markdown",
   "id": "7eb34a32",
   "metadata": {},
   "source": [
    "### Q9. Use `type()` function to check the data type of a variable."
   ]
  },
  {
   "cell_type": "code",
   "execution_count": 4,
   "id": "cfd2011d",
   "metadata": {},
   "outputs": [
    {
     "name": "stdout",
     "output_type": "stream",
     "text": [
      "<class 'str'>\n"
     ]
    }
   ],
   "source": [
    "variable = \"hello\"\n",
    "print(type(variable))"
   ]
  },
  {
   "cell_type": "markdown",
   "id": "be64d8e2",
   "metadata": {},
   "source": [
    "### Q10. Create a boolean variable and print it."
   ]
  },
  {
   "cell_type": "code",
   "execution_count": 5,
   "id": "46812973",
   "metadata": {},
   "outputs": [
    {
     "name": "stdout",
     "output_type": "stream",
     "text": [
      "True\n"
     ]
    }
   ],
   "source": [
    "answer = True\n",
    "print(answer)"
   ]
  },
  {
   "cell_type": "markdown",
   "id": "53765968",
   "metadata": {},
   "source": [
    "### Q11. Check if a number is positive, negative, or zero using `if` statement."
   ]
  },
  {
   "cell_type": "code",
   "execution_count": 3,
   "id": "0623e6d5",
   "metadata": {},
   "outputs": [
    {
     "name": "stdout",
     "output_type": "stream",
     "text": [
      "no. is positive\n"
     ]
    }
   ],
   "source": [
    "num = int(input(\"enter no.\"))\n",
    "if num > 0:\n",
    "    print(\"no. is positive\")\n",
    "elif num < 0:\n",
    "    print(\"no. is negative\")\n",
    "else:\n",
    "    print(\"no. is zero\")\n",
    "\n"
   ]
  },
  {
   "cell_type": "markdown",
   "id": "79b115a2",
   "metadata": {},
   "source": [
    "### Q12. Write a program to check if a number is even or odd."
   ]
  },
  {
   "cell_type": "code",
   "execution_count": 4,
   "id": "efcc28dc",
   "metadata": {},
   "outputs": [
    {
     "name": "stdout",
     "output_type": "stream",
     "text": [
      "no. is even\n"
     ]
    }
   ],
   "source": [
    "num = int(input(\"enter no.\"))\n",
    "if num % 2 == 0:\n",
    "    print(\"no. is even\")\n",
    "else:\n",
    "    print(\"no. is odd\")"
   ]
  },
  {
   "cell_type": "markdown",
   "id": "4e15996d",
   "metadata": {},
   "source": [
    "### Q13. Write a program that prints your name 3 times using a `for` loop."
   ]
  },
  {
   "cell_type": "code",
   "execution_count": 8,
   "id": "a213b9fd",
   "metadata": {},
   "outputs": [
    {
     "name": "stdout",
     "output_type": "stream",
     "text": [
      "abdelrahman\n",
      "abdelrahman\n",
      "abdelrahman\n"
     ]
    }
   ],
   "source": [
    "name = \"abdelrahman\"\n",
    "for i in range(3):\n",
    "    print(name)"
   ]
  },
  {
   "cell_type": "markdown",
   "id": "3deb94cc",
   "metadata": {},
   "source": [
    "### Q14. Write a `for` loop that prints numbers from 1 to 10."
   ]
  },
  {
   "cell_type": "code",
   "execution_count": 9,
   "id": "2f806196",
   "metadata": {},
   "outputs": [
    {
     "name": "stdout",
     "output_type": "stream",
     "text": [
      "1\n",
      "2\n",
      "3\n",
      "4\n",
      "5\n",
      "6\n",
      "7\n",
      "8\n",
      "9\n",
      "10\n"
     ]
    }
   ],
   "source": [
    "for numbers in range(1,11):\n",
    "    print(numbers)"
   ]
  },
  {
   "cell_type": "markdown",
   "id": "ede90dd1",
   "metadata": {},
   "source": [
    "### Q15. Use a `for` loop to iterate over a list and print each element."
   ]
  },
  {
   "cell_type": "code",
   "execution_count": 10,
   "id": "ca9ff07e",
   "metadata": {},
   "outputs": [
    {
     "name": "stdout",
     "output_type": "stream",
     "text": [
      "AI\n",
      "DS\n",
      "DA\n"
     ]
    }
   ],
   "source": [
    "new_list = [\"AI\",\"DS\",\"DA\"]\n",
    "for i in new_list:\n",
    "    print(i)"
   ]
  },
  {
   "cell_type": "markdown",
   "id": "850c2ca8",
   "metadata": {},
   "source": [
    "### Q16. Write a program to calculate the sum of numbers from 1 to 100."
   ]
  },
  {
   "cell_type": "code",
   "execution_count": 12,
   "id": "16a8cd5c",
   "metadata": {},
   "outputs": [
    {
     "name": "stdout",
     "output_type": "stream",
     "text": [
      "5050\n"
     ]
    }
   ],
   "source": [
    "sum =0\n",
    "for numbers in range(1,101):\n",
    "    sum += numbers\n",
    "print(sum)"
   ]
  },
  {
   "cell_type": "markdown",
   "id": "6250746b",
   "metadata": {},
   "source": [
    "### Q17. Write a `for` loop that prints only even numbers from 1 to 20."
   ]
  },
  {
   "cell_type": "code",
   "execution_count": 13,
   "id": "2764eb99",
   "metadata": {},
   "outputs": [
    {
     "name": "stdout",
     "output_type": "stream",
     "text": [
      "2\n",
      "4\n",
      "6\n",
      "8\n",
      "10\n",
      "12\n",
      "14\n",
      "16\n",
      "18\n",
      "20\n"
     ]
    }
   ],
   "source": [
    "for num in range(1,21):\n",
    "    if num % 2 == 0:\n",
    "        print(num)"
   ]
  },
  {
   "cell_type": "markdown",
   "id": "3b2408b5",
   "metadata": {},
   "source": [
    "### Q18. Write a `for` loop to print each character in a string."
   ]
  },
  {
   "cell_type": "code",
   "execution_count": 14,
   "id": "fc73c912",
   "metadata": {},
   "outputs": [
    {
     "name": "stdout",
     "output_type": "stream",
     "text": [
      "A\n",
      "M\n",
      "I\n",
      "T\n"
     ]
    }
   ],
   "source": [
    "text = \"AMIT\"\n",
    "for i in text:\n",
    "    print(i)"
   ]
  },
  {
   "cell_type": "markdown",
   "id": "c75cb287",
   "metadata": {},
   "source": [
    "### Q19. Use a `for` loop to print all values in a dictionary."
   ]
  },
  {
   "cell_type": "code",
   "execution_count": 18,
   "id": "62d9d757",
   "metadata": {},
   "outputs": [
    {
     "name": "stdout",
     "output_type": "stream",
     "text": [
      "abdo\n",
      "21\n",
      "engineer\n"
     ]
    }
   ],
   "source": [
    "new_dictionary = {'name':'abdo','age':21,'job':'engineer'}\n",
    "for i in new_dictionary.values():\n",
    "    print(i)"
   ]
  },
  {
   "cell_type": "markdown",
   "id": "6994e4ca",
   "metadata": {},
   "source": [
    "### Q20. Write a program that uses a `for` loop to find the factorial of a number."
   ]
  },
  {
   "cell_type": "code",
   "execution_count": 20,
   "id": "254cb435",
   "metadata": {},
   "outputs": [
    {
     "name": "stdout",
     "output_type": "stream",
     "text": [
      "6 is 720\n"
     ]
    }
   ],
   "source": [
    "num = int(input(\"enter no.\"))\n",
    "fact = 1\n",
    "if num < 0:\n",
    "    print(\"the fact is unknown\")\n",
    "elif num == 0:\n",
    "    print(\"the fact of 0 is 1\")\n",
    "else:\n",
    "    for i in range(1 , num + 1):\n",
    "        fact *= i\n",
    "    print(f\"{num} is {fact}\")\n"
   ]
  },
  {
   "cell_type": "markdown",
   "id": "92d3b300",
   "metadata": {},
   "source": [
    "### Q21. Create a list of your 5 favorite fruits."
   ]
  },
  {
   "cell_type": "code",
   "execution_count": 21,
   "id": "3f2d07e3",
   "metadata": {},
   "outputs": [
    {
     "name": "stdout",
     "output_type": "stream",
     "text": [
      "['f1', 'f2', 'f3', 'f4', 'f5']\n"
     ]
    }
   ],
   "source": [
    "fav_fruits = [\"f1\",\"f2\",\"f3\",\"f4\",\"f5\"]\n",
    "print(fav_fruits)"
   ]
  },
  {
   "cell_type": "markdown",
   "id": "e3433500",
   "metadata": {},
   "source": [
    "### Q22. Add a new fruit to your list of favorite fruits."
   ]
  },
  {
   "cell_type": "code",
   "execution_count": 25,
   "id": "f9ffd8d2",
   "metadata": {},
   "outputs": [
    {
     "name": "stdout",
     "output_type": "stream",
     "text": [
      "['f1', 'f2', 'f3', 'f4', 'f5', 'f6', 'f6', 'f6', 'f6']\n"
     ]
    }
   ],
   "source": [
    "fav_fruits.append(\"f6\")\n",
    "print(fav_fruits)"
   ]
  },
  {
   "cell_type": "markdown",
   "id": "a33917e4",
   "metadata": {},
   "source": [
    "### Q23. Remove the second item from a list."
   ]
  },
  {
   "cell_type": "code",
   "execution_count": 2,
   "id": "0fac364c",
   "metadata": {},
   "outputs": [
    {
     "name": "stdout",
     "output_type": "stream",
     "text": [
      "['f1', 'f3', 'f4', 'f5']\n"
     ]
    }
   ],
   "source": [
    "fav_fruits = [\"f1\",\"f2\",\"f3\",\"f4\",\"f5\"]\n",
    "fav_fruits.pop(1)\n",
    "print(fav_fruits)\n"
   ]
  },
  {
   "cell_type": "markdown",
   "id": "497047c6",
   "metadata": {},
   "source": [
    "### Q24. Sort a list of numbers in descending order."
   ]
  },
  {
   "cell_type": "code",
   "execution_count": 3,
   "id": "b9717e06",
   "metadata": {},
   "outputs": [
    {
     "name": "stdout",
     "output_type": "stream",
     "text": [
      "[81, 11, 9, 5, 1]\n"
     ]
    }
   ],
   "source": [
    "numbers = [5,9,1,11,81]\n",
    "numbers.sort(reverse=True)\n",
    "print(numbers)"
   ]
  },
  {
   "cell_type": "markdown",
   "id": "6a3a29ad",
   "metadata": {},
   "source": [
    "### Q25. Find the maximum and minimum values in a list."
   ]
  },
  {
   "cell_type": "code",
   "execution_count": 4,
   "id": "82cc41dd",
   "metadata": {},
   "outputs": [
    {
     "name": "stdout",
     "output_type": "stream",
     "text": [
      "81\n",
      "1\n"
     ]
    }
   ],
   "source": [
    "print(max(numbers))\n",
    "print(min(numbers))"
   ]
  },
  {
   "cell_type": "markdown",
   "id": "a5077085",
   "metadata": {},
   "source": [
    "### Q26. Count how many times a value appears in a list."
   ]
  },
  {
   "cell_type": "code",
   "execution_count": 5,
   "id": "5953d267",
   "metadata": {},
   "outputs": [
    {
     "name": "stdout",
     "output_type": "stream",
     "text": [
      "2\n"
     ]
    }
   ],
   "source": [
    "numbers = [5,9,1,11,5,81]\n",
    "value = 5\n",
    "print(numbers.count(value))\n"
   ]
  },
  {
   "cell_type": "markdown",
   "id": "e767871e",
   "metadata": {},
   "source": [
    "### Q27. Check if a specific value exists in a list."
   ]
  },
  {
   "cell_type": "code",
   "execution_count": 6,
   "id": "97bb90bd",
   "metadata": {},
   "outputs": [
    {
     "name": "stdout",
     "output_type": "stream",
     "text": [
      "yes\n"
     ]
    }
   ],
   "source": [
    "numbers = [5,9,1,11,5,81]\n",
    "value = 5\n",
    "if value in numbers:\n",
    "    print(\"yes\")\n",
    "else:\n",
    "    print(\"no\")\n"
   ]
  },
  {
   "cell_type": "markdown",
   "id": "346632ba",
   "metadata": {},
   "source": [
    "### Q28. Reverse a list without using reverse() function."
   ]
  },
  {
   "cell_type": "code",
   "execution_count": 9,
   "id": "663befc6",
   "metadata": {},
   "outputs": [
    {
     "name": "stdout",
     "output_type": "stream",
     "text": [
      "[81, 5, 11, 1, 9, 5]\n"
     ]
    }
   ],
   "source": [
    "numbers = [5,9,1,11,5,81]\n",
    "print(numbers[::-1])"
   ]
  },
  {
   "cell_type": "markdown",
   "id": "4f28f319",
   "metadata": {},
   "source": [
    "### Q29. Make a copy of a list and modify the copy only."
   ]
  },
  {
   "cell_type": "code",
   "execution_count": 11,
   "id": "e665fc96",
   "metadata": {},
   "outputs": [
    {
     "name": "stdout",
     "output_type": "stream",
     "text": [
      "[5, 50, 1, 11, 5, 81]\n"
     ]
    }
   ],
   "source": [
    "numbers = [5,9,1,11,5,81]\n",
    "copy_numbers = numbers.copy()\n",
    "copy_numbers[1] = 50\n",
    "print(copy_numbers)"
   ]
  },
  {
   "cell_type": "markdown",
   "id": "4fd7ffdf",
   "metadata": {},
   "source": [
    "### Q30. Use slicing to get the first 3 items of a list."
   ]
  },
  {
   "cell_type": "code",
   "execution_count": 12,
   "id": "5109bd94",
   "metadata": {},
   "outputs": [
    {
     "name": "stdout",
     "output_type": "stream",
     "text": [
      "['m', 's', 'n']\n"
     ]
    }
   ],
   "source": [
    "new_list = [\"m\",\"s\",\"n\",\"r\"]\n",
    "print(new_list[:3])"
   ]
  },
  {
   "cell_type": "markdown",
   "id": "fa7d8cbc",
   "metadata": {},
   "source": [
    "### Q31. Create a tuple with 4 elements and print its length."
   ]
  },
  {
   "cell_type": "code",
   "execution_count": 13,
   "id": "1d519f4c",
   "metadata": {},
   "outputs": [
    {
     "name": "stdout",
     "output_type": "stream",
     "text": [
      "4\n"
     ]
    }
   ],
   "source": [
    "new_tuple = (3,2,8,9)\n",
    "print(len(new_tuple))"
   ]
  },
  {
   "cell_type": "markdown",
   "id": "1fc14e2a",
   "metadata": {},
   "source": [
    "### Q32. Access the last element of a tuple."
   ]
  },
  {
   "cell_type": "code",
   "execution_count": 14,
   "id": "924f8f7f",
   "metadata": {},
   "outputs": [
    {
     "name": "stdout",
     "output_type": "stream",
     "text": [
      "9\n"
     ]
    }
   ],
   "source": [
    "print(new_tuple[-1])"
   ]
  },
  {
   "cell_type": "markdown",
   "id": "31393230",
   "metadata": {},
   "source": [
    "### Q33. Convert a tuple into a list."
   ]
  },
  {
   "cell_type": "code",
   "execution_count": 15,
   "id": "d419f723",
   "metadata": {},
   "outputs": [
    {
     "name": "stdout",
     "output_type": "stream",
     "text": [
      "[3, 2, 8, 9]\n"
     ]
    }
   ],
   "source": [
    "new_tuple = (3,2,8,9)\n",
    "print(list(new_tuple))"
   ]
  },
  {
   "cell_type": "markdown",
   "id": "f2605bd7",
   "metadata": {},
   "source": [
    "### Q34. Convert a list into a tuple."
   ]
  },
  {
   "cell_type": "code",
   "execution_count": 16,
   "id": "2fc2424c",
   "metadata": {},
   "outputs": [
    {
     "name": "stdout",
     "output_type": "stream",
     "text": [
      "(3, 2, 8, 9)\n"
     ]
    }
   ],
   "source": [
    "new_list = [3,2,8,9]\n",
    "print(tuple(new_list))"
   ]
  },
  {
   "cell_type": "markdown",
   "id": "8ea26fed",
   "metadata": {},
   "source": [
    "### Q35. Check if a value exists in a tuple."
   ]
  },
  {
   "cell_type": "code",
   "execution_count": 17,
   "id": "502ca8ef",
   "metadata": {},
   "outputs": [
    {
     "name": "stdout",
     "output_type": "stream",
     "text": [
      "exist\n"
     ]
    }
   ],
   "source": [
    "new_tuple = (3,2,8,9)\n",
    "value = 8\n",
    "if value in new_tuple:\n",
    "    print(\"exist\")\n",
    "else:\n",
    "    print(\"not exist\")"
   ]
  },
  {
   "cell_type": "markdown",
   "id": "1861d487",
   "metadata": {},
   "source": [
    "### Q36. Concatenate two tuples."
   ]
  },
  {
   "cell_type": "code",
   "execution_count": 18,
   "id": "25990032",
   "metadata": {},
   "outputs": [
    {
     "name": "stdout",
     "output_type": "stream",
     "text": [
      "(1, 2, 3, 4, 5, 6)\n"
     ]
    }
   ],
   "source": [
    "tuple1 = (1,2,3)\n",
    "tuple2 = (4,5,6)\n",
    "concat = tuple1 + tuple2\n",
    "print(concat)"
   ]
  },
  {
   "cell_type": "markdown",
   "id": "7a62f436",
   "metadata": {},
   "source": [
    "### Q37. Repeat a tuple 3 times."
   ]
  },
  {
   "cell_type": "code",
   "execution_count": 19,
   "id": "1342d94a",
   "metadata": {},
   "outputs": [
    {
     "name": "stdout",
     "output_type": "stream",
     "text": [
      "(1, 2, 3, 4, 5, 6, 1, 2, 3, 4, 5, 6, 1, 2, 3, 4, 5, 6)\n"
     ]
    }
   ],
   "source": [
    "print(concat*3)"
   ]
  },
  {
   "cell_type": "markdown",
   "id": "5d54389e",
   "metadata": {},
   "source": [
    "### Q38. Find the index of an element in a tuple."
   ]
  },
  {
   "cell_type": "code",
   "execution_count": 20,
   "id": "3dbcc47b",
   "metadata": {},
   "outputs": [
    {
     "name": "stdout",
     "output_type": "stream",
     "text": [
      "1\n"
     ]
    }
   ],
   "source": [
    "tuple1 = (1,2,3)\n",
    "element = 2\n",
    "print(tuple1.index(element))\n"
   ]
  },
  {
   "cell_type": "markdown",
   "id": "41e0cb37",
   "metadata": {},
   "source": [
    "### Q39. Use tuple unpacking to assign values to variables."
   ]
  },
  {
   "cell_type": "code",
   "execution_count": 3,
   "id": "b38c6788",
   "metadata": {},
   "outputs": [
    {
     "name": "stdout",
     "output_type": "stream",
     "text": [
      "6\n"
     ]
    }
   ],
   "source": [
    "new_tuple = (1,5,6,9)\n",
    "tuple1,tuple2,tuple3,tuple4 = new_tuple\n",
    "print(tuple3)\n"
   ]
  },
  {
   "cell_type": "markdown",
   "id": "70b69ddd",
   "metadata": {},
   "source": [
    "### Q40. Create a nested list and access an inner element."
   ]
  },
  {
   "cell_type": "code",
   "execution_count": 23,
   "id": "0d05b3e7",
   "metadata": {},
   "outputs": [
    {
     "name": "stdout",
     "output_type": "stream",
     "text": [
      "[['m', 's', 'n'], [1, 2, 3]]\n",
      "['m', 's', 'n']\n",
      "[1, 2, 3]\n"
     ]
    }
   ],
   "source": [
    "new_list = [[\"m\",\"s\",\"n\"],[1,2,3]]\n",
    "print(new_list)\n",
    "print(new_list[0])\n",
    "print(new_list[1])"
   ]
  },
  {
   "cell_type": "markdown",
   "id": "70256f64",
   "metadata": {},
   "source": [
    "### Q41. Create a set of 5 unique colors."
   ]
  },
  {
   "cell_type": "code",
   "execution_count": 24,
   "id": "4be1c2bb",
   "metadata": {},
   "outputs": [
    {
     "name": "stdout",
     "output_type": "stream",
     "text": [
      "{'r', 'g', 'b', 'v', 'y'}\n"
     ]
    }
   ],
   "source": [
    "colors = {\"r\",\"b\",\"y\",\"v\",\"g\"}\n",
    "print(colors)"
   ]
  },
  {
   "cell_type": "markdown",
   "id": "774bddd7",
   "metadata": {},
   "source": [
    "### Q42. Add a new color to the set."
   ]
  },
  {
   "cell_type": "code",
   "execution_count": 28,
   "id": "9129a921",
   "metadata": {},
   "outputs": [
    {
     "name": "stdout",
     "output_type": "stream",
     "text": [
      "{'r', 'g', 'b', 'v', 'w', 'y'}\n"
     ]
    }
   ],
   "source": [
    "colors = {\"r\",\"b\",\"y\",\"v\",\"g\"}\n",
    "colors.add(\"w\")\n",
    "print(colors)"
   ]
  },
  {
   "cell_type": "markdown",
   "id": "3cc0470c",
   "metadata": {},
   "source": [
    "### Q43. Remove an item from the set using `remove()`."
   ]
  },
  {
   "cell_type": "code",
   "execution_count": 29,
   "id": "e85423ac",
   "metadata": {},
   "outputs": [
    {
     "name": "stdout",
     "output_type": "stream",
     "text": [
      "{'r', 'g', 'b', 'y'}\n"
     ]
    }
   ],
   "source": [
    "colors = {\"r\",\"b\",\"y\",\"v\",\"g\"}\n",
    "colors.remove(\"v\")\n",
    "print(colors)"
   ]
  },
  {
   "cell_type": "markdown",
   "id": "b7047e3b",
   "metadata": {},
   "source": [
    "### Q44. Use `discard()` to remove an item that may or may not exist."
   ]
  },
  {
   "cell_type": "code",
   "execution_count": 30,
   "id": "adf2b3c2",
   "metadata": {},
   "outputs": [
    {
     "name": "stdout",
     "output_type": "stream",
     "text": [
      "{'g', 'b', 'v', 'y'}\n"
     ]
    }
   ],
   "source": [
    "colors = {\"r\",\"b\",\"y\",\"v\",\"g\"}\n",
    "colors.discard(\"w\")\n",
    "colors.discard(\"r\")\n",
    "print(colors)"
   ]
  },
  {
   "cell_type": "markdown",
   "id": "0c0338ca",
   "metadata": {},
   "source": [
    "### Q45. Create a set from a list with duplicate values."
   ]
  },
  {
   "cell_type": "code",
   "execution_count": 31,
   "id": "6918aaf4",
   "metadata": {},
   "outputs": [
    {
     "name": "stdout",
     "output_type": "stream",
     "text": [
      "{1, 2, 3}\n"
     ]
    }
   ],
   "source": [
    "new_list = [1,1,2,2,3,3]\n",
    "new_set = set(new_list)\n",
    "print(new_set)"
   ]
  },
  {
   "cell_type": "markdown",
   "id": "531ece70",
   "metadata": {},
   "source": [
    "### Q46. Find the union of two sets."
   ]
  },
  {
   "cell_type": "code",
   "execution_count": 32,
   "id": "f7c8d3a1",
   "metadata": {},
   "outputs": [
    {
     "name": "stdout",
     "output_type": "stream",
     "text": [
      "{1, 2, 3, 4, 5, 6}\n"
     ]
    }
   ],
   "source": [
    "set1 = {1,2,3,4,5}\n",
    "set2 = {4,5,2,6}\n",
    "print(set1.union(set2))"
   ]
  },
  {
   "cell_type": "markdown",
   "id": "37ddac6b",
   "metadata": {},
   "source": [
    "### Q47. Find the intersection of two sets."
   ]
  },
  {
   "cell_type": "code",
   "execution_count": 33,
   "id": "cbb3d58f",
   "metadata": {},
   "outputs": [
    {
     "name": "stdout",
     "output_type": "stream",
     "text": [
      "{2, 4, 5}\n"
     ]
    }
   ],
   "source": [
    "set1 = {1,2,3,4,5}\n",
    "set2 = {4,5,2,6}\n",
    "print(set1.intersection(set2))"
   ]
  },
  {
   "cell_type": "markdown",
   "id": "cfba12fb",
   "metadata": {},
   "source": [
    "### Q48. Find the difference between two sets."
   ]
  },
  {
   "cell_type": "code",
   "execution_count": 34,
   "id": "87d9d198",
   "metadata": {},
   "outputs": [
    {
     "name": "stdout",
     "output_type": "stream",
     "text": [
      "{1, 3}\n"
     ]
    }
   ],
   "source": [
    "set1 = {1,2,3,4,5}\n",
    "set2 = {4,5,2,6}\n",
    "print(set1.difference(set2))"
   ]
  },
  {
   "cell_type": "markdown",
   "id": "fe3124b5",
   "metadata": {},
   "source": [
    "### Q49. Check if a set is a subset of another set."
   ]
  },
  {
   "cell_type": "code",
   "execution_count": null,
   "id": "9414638f",
   "metadata": {},
   "outputs": [
    {
     "name": "stdout",
     "output_type": "stream",
     "text": [
      "True\n"
     ]
    }
   ],
   "source": [
    "set1 = {4,5}\n",
    "set2 = {4,5,2,6}\n",
    "print(set1.issubset(set2))"
   ]
  },
  {
   "cell_type": "markdown",
   "id": "3155bdce",
   "metadata": {},
   "source": [
    "### Q50. Check if two sets are disjoint."
   ]
  },
  {
   "cell_type": "code",
   "execution_count": 36,
   "id": "14b85863",
   "metadata": {},
   "outputs": [
    {
     "name": "stdout",
     "output_type": "stream",
     "text": [
      "False\n"
     ]
    }
   ],
   "source": [
    "set1 = {4,5}\n",
    "set2 = {4,5,2,6}\n",
    "print(set1.isdisjoint(set2))"
   ]
  },
  {
   "cell_type": "markdown",
   "id": "bad362eb",
   "metadata": {},
   "source": [
    "### Q51. Create a dictionary with 3 items: name, age, and city."
   ]
  },
  {
   "cell_type": "code",
   "execution_count": 37,
   "id": "e2ae3ccd",
   "metadata": {},
   "outputs": [
    {
     "name": "stdout",
     "output_type": "stream",
     "text": [
      "{'name': 'abdo', 'age': 21, 'job': 'engineer'}\n"
     ]
    }
   ],
   "source": [
    "new_dictionary = {'name':'abdo','age':21,'job':'engineer'}\n",
    "print(new_dictionary)"
   ]
  },
  {
   "cell_type": "markdown",
   "id": "222708fb",
   "metadata": {},
   "source": [
    "### Q52. Add a new key-value pair to the dictionary."
   ]
  },
  {
   "cell_type": "code",
   "execution_count": 38,
   "id": "f309e8a9",
   "metadata": {},
   "outputs": [
    {
     "name": "stdout",
     "output_type": "stream",
     "text": [
      "{'name': 'abdo', 'age': 21, 'job': 'engineer', 'city': 'cairo'}\n"
     ]
    }
   ],
   "source": [
    "new_dictionary['city'] = 'cairo'\n",
    "print(new_dictionary)"
   ]
  },
  {
   "cell_type": "markdown",
   "id": "608c6307",
   "metadata": {},
   "source": [
    "### Q53. Update the value of an existing key in the dictionary."
   ]
  },
  {
   "cell_type": "code",
   "execution_count": 39,
   "id": "a47b25b9",
   "metadata": {},
   "outputs": [
    {
     "name": "stdout",
     "output_type": "stream",
     "text": [
      "{'name': 'abdelrahman', 'age': 21, 'job': 'engineer', 'city': 'cairo'}\n"
     ]
    }
   ],
   "source": [
    "new_dictionary['name'] = 'abdelrahman'\n",
    "print(new_dictionary)"
   ]
  },
  {
   "cell_type": "markdown",
   "id": "99e23fe0",
   "metadata": {},
   "source": [
    "### Q54. Remove a key from the dictionary using `pop()`."
   ]
  },
  {
   "cell_type": "code",
   "execution_count": 1,
   "id": "eb851e69",
   "metadata": {},
   "outputs": [
    {
     "name": "stdout",
     "output_type": "stream",
     "text": [
      "cairo\n",
      "{'name': 'abdelrahman', 'age': 21, 'job': 'engineer'}\n"
     ]
    }
   ],
   "source": [
    "new_dictionary = {'name': 'abdelrahman', 'age': 21, 'job': 'engineer', 'city': 'cairo'}\n",
    "removed = new_dictionary.pop('city')\n",
    "print(removed)\n",
    "print(new_dictionary)"
   ]
  },
  {
   "cell_type": "markdown",
   "id": "c84dbe1f",
   "metadata": {},
   "source": [
    "### Q55. Check if a key exists in the dictionary."
   ]
  },
  {
   "cell_type": "code",
   "execution_count": 47,
   "id": "6c8dfaec",
   "metadata": {},
   "outputs": [
    {
     "name": "stdout",
     "output_type": "stream",
     "text": [
      "yes\n"
     ]
    }
   ],
   "source": [
    "new_dictionary = {'name': 'abdelrahman', 'age': 21, 'job': 'engineer', 'city': 'cairo'}\n",
    "key = 'name'\n",
    "if key in new_dictionary:\n",
    "    print(\"yes\")\n",
    "else:\n",
    "    print(\"no\")"
   ]
  },
  {
   "cell_type": "markdown",
   "id": "430ec294",
   "metadata": {},
   "source": [
    "### Q56. Loop through a dictionary and print all keys and values."
   ]
  },
  {
   "cell_type": "code",
   "execution_count": 48,
   "id": "6795ec48",
   "metadata": {},
   "outputs": [
    {
     "name": "stdout",
     "output_type": "stream",
     "text": [
      "('name', 'abdelrahman'):8\n",
      "('age', 21):8\n",
      "('job', 'engineer'):8\n",
      "('city', 'cairo'):8\n"
     ]
    }
   ],
   "source": [
    "new_dictionary = {'name': 'abdelrahman', 'age': 21, 'job': 'engineer', 'city': 'cairo'}\n",
    "for key in new_dictionary.items():\n",
    "    print(f\"{key}:{value}\")"
   ]
  },
  {
   "cell_type": "markdown",
   "id": "da3690bb",
   "metadata": {},
   "source": [
    "### Q57. Get all keys from a dictionary using `keys()`."
   ]
  },
  {
   "cell_type": "code",
   "execution_count": null,
   "id": "cb54c698",
   "metadata": {},
   "outputs": [
    {
     "name": "stdout",
     "output_type": "stream",
     "text": [
      "dict_keys(['name', 'age', 'job', 'city'])\n"
     ]
    }
   ],
   "source": [
    "new_dictionary = {'name': 'abdelrahman', 'age': 21, 'job': 'engineer', 'city': 'cairo'}\n",
    "print(new_dictionary.keys())"
   ]
  },
  {
   "cell_type": "markdown",
   "id": "d31b70c5",
   "metadata": {},
   "source": [
    "### Q58. Get all values from a dictionary using `values()`."
   ]
  },
  {
   "cell_type": "code",
   "execution_count": 50,
   "id": "3a766b70",
   "metadata": {},
   "outputs": [
    {
     "name": "stdout",
     "output_type": "stream",
     "text": [
      "dict_values(['abdelrahman', 21, 'engineer', 'cairo'])\n"
     ]
    }
   ],
   "source": [
    "new_dictionary = {'name': 'abdelrahman', 'age': 21, 'job': 'engineer', 'city': 'cairo'}\n",
    "print(new_dictionary.values())"
   ]
  },
  {
   "cell_type": "markdown",
   "id": "b0a9ba1f",
   "metadata": {},
   "source": [
    "### Q59. Get all key-value pairs using `items()`."
   ]
  },
  {
   "cell_type": "code",
   "execution_count": 51,
   "id": "10080491",
   "metadata": {},
   "outputs": [
    {
     "name": "stdout",
     "output_type": "stream",
     "text": [
      "dict_items([('name', 'abdelrahman'), ('age', 21), ('job', 'engineer'), ('city', 'cairo')])\n"
     ]
    }
   ],
   "source": [
    "new_dictionary = {'name': 'abdelrahman', 'age': 21, 'job': 'engineer', 'city': 'cairo'}\n",
    "print(new_dictionary.items())"
   ]
  },
  {
   "cell_type": "markdown",
   "id": "58cd862e",
   "metadata": {},
   "source": [
    "### Q60. Create a dictionary from two lists: one for keys and one for values."
   ]
  },
  {
   "cell_type": "code",
   "execution_count": 2,
   "id": "24a5326f",
   "metadata": {},
   "outputs": [
    {
     "name": "stdout",
     "output_type": "stream",
     "text": [
      "{'name': 'abdelrahman', 'age': 21, 'job': 'engineer'}\n"
     ]
    }
   ],
   "source": [
    "keys = [\"name\",\"age\",\"job\"]\n",
    "values = [\"abdelrahman\",21,\"engineer\"]\n",
    "new_dictionary = dict(zip(keys,values))\n",
    "print(new_dictionary)"
   ]
  }
 ],
 "metadata": {
  "kernelspec": {
   "display_name": "Python 3",
   "language": "python",
   "name": "python3"
  },
  "language_info": {
   "codemirror_mode": {
    "name": "ipython",
    "version": 3
   },
   "file_extension": ".py",
   "mimetype": "text/x-python",
   "name": "python",
   "nbconvert_exporter": "python",
   "pygments_lexer": "ipython3",
   "version": "3.13.5"
  }
 },
 "nbformat": 4,
 "nbformat_minor": 5
}
